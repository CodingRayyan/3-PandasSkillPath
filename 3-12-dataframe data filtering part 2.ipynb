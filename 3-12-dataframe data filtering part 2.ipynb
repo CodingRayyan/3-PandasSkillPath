{
 "cells": [
  {
   "cell_type": "code",
   "execution_count": 6,
   "id": "b179641a",
   "metadata": {},
   "outputs": [
    {
     "data": {
      "text/html": [
       "<div>\n",
       "<style scoped>\n",
       "    .dataframe tbody tr th:only-of-type {\n",
       "        vertical-align: middle;\n",
       "    }\n",
       "\n",
       "    .dataframe tbody tr th {\n",
       "        vertical-align: top;\n",
       "    }\n",
       "\n",
       "    .dataframe thead th {\n",
       "        text-align: right;\n",
       "    }\n",
       "</style>\n",
       "<table border=\"1\" class=\"dataframe\">\n",
       "  <thead>\n",
       "    <tr style=\"text-align: right;\">\n",
       "      <th></th>\n",
       "      <th>Group</th>\n",
       "      <th>Members</th>\n",
       "      <th>Questions</th>\n",
       "    </tr>\n",
       "  </thead>\n",
       "  <tbody>\n",
       "    <tr>\n",
       "      <th>1</th>\n",
       "      <td>B</td>\n",
       "      <td>3500</td>\n",
       "      <td>300</td>\n",
       "    </tr>\n",
       "    <tr>\n",
       "      <th>5</th>\n",
       "      <td>F</td>\n",
       "      <td>4588</td>\n",
       "      <td>276</td>\n",
       "    </tr>\n",
       "    <tr>\n",
       "      <th>8</th>\n",
       "      <td>I</td>\n",
       "      <td>3309</td>\n",
       "      <td>147</td>\n",
       "    </tr>\n",
       "  </tbody>\n",
       "</table>\n",
       "</div>"
      ],
      "text/plain": [
       "  Group  Members  Questions \n",
       "1     B     3500         300\n",
       "5     F     4588         276\n",
       "8     I     3309         147"
      ]
     },
     "execution_count": 6,
     "metadata": {},
     "output_type": "execute_result"
    }
   ],
   "source": [
    "import pandas as pd\n",
    "\n",
    "a = pd.read_csv('between(csvfile7).csv')\n",
    "\n",
    "b = a[a['Members'] < 2500 ]\n",
    "#c = a[a['Members'] > 4000 ]\n",
    "#d = a[(a['Members'] > 4000) & (a['Group'].isin(['A','D','C','K']))]\n",
    "\n",
    "e = a[a['Members'].between(2367,5098)]\n",
    "f = a[(a['Members'].between(2000,6000)) & (a['Group'].isin(['F','G','I']))]\n",
    "g = a[(a['Members'].between(2000,6000)) & (a['Group'].isin(['F','G','I']))].sample(1)\n",
    "h = a[a['Members'].between(2367,5098, inclusive = 'both')]\n",
    "i = a[a['Members'].between(2367,5098, inclusive = 'neither')]\n",
    "i"
   ]
  }
 ],
 "metadata": {
  "kernelspec": {
   "display_name": "Python 3 (ipykernel)",
   "language": "python",
   "name": "python3"
  },
  "language_info": {
   "codemirror_mode": {
    "name": "ipython",
    "version": 3
   },
   "file_extension": ".py",
   "mimetype": "text/x-python",
   "name": "python",
   "nbconvert_exporter": "python",
   "pygments_lexer": "ipython3",
   "version": "3.11.5"
  }
 },
 "nbformat": 4,
 "nbformat_minor": 5
}
